{
  "cells": [
    {
      "cell_type": "code",
      "execution_count": null,
      "metadata": {
        "colab": {
          "base_uri": "https://localhost:8080/"
        },
        "id": "UGvGu4t_rd87",
        "outputId": "9acb1cd1-4e1e-4e5b-dc34-1ecb99c8170f"
      },
      "outputs": [],
      "source": [
        "!pip install nglview\n",
        "!pip install https://github.com/volkamerlab/opencadd/archive/master.tar.gz\n",
        "!git clone https://github.com/maranasgroup/Protein-InDelMaker.git\n",
        "# install nglview, which is a library to look at the proteins\n",
        "# opencadd is a library that includes the code 编码？ of the enzymes\n",
        "# protein-indelmaker is a bioinformatics tool used for identifying and analyzing insertions and deletions (indels) in protein sequences\n"
      ]
    },
    {
      "cell_type": "code",
      "execution_count": null,
      "metadata": {
        "colab": {
          "base_uri": "https://localhost:8080/",
          "height": 1000
        },
        "id": "K0gCZg4epUA7",
        "outputId": "e9219415-7500-49bb-d91a-a6520cff7a61"
      },
      "outputs": [],
      "source": [
        "import sys\n",
        "if 'google.colab' in sys.modules:\n",
        "  !pip install pyrosettacolabsetup\n",
        "  import pyrosettacolabsetup\n",
        "  pyrosettacolabsetup.install_pyrosetta()\n",
        "  exit()\n",
        "# ensure pyrosetta is availbale to be downloaded\n",
        "# pyrosetta is a Python library that provides a powerful framework for protein structure prediction, design, and analysis\n",
        "\n",
        "import sys\n",
        "if 'google.colab' in sys.modules:\n",
        "  !pip install pyrosettacolabsetup\n",
        "  import pyrosettacolabsetup\n",
        "  pyrosettacolabsetup.mount_pyrosetta_install()\n",
        "# importing PyRosetta\n",
        "from pyrosetta import *\n",
        "init()\n",
        "# initiate the pyrosetta program\n",
        "\n",
        "if not os.getenv(\"DEBUG\"):\n",
        "    !pip install attrs billiard biopython blosc dask dask-jobqueue distributed GitPython graphviz jupyter matplotlib numpy pandas py3Dmol scipy seaborn traitlets --user\n",
        "# debug the program"
      ]
    },
    {
      "cell_type": "code",
      "execution_count": null,
      "metadata": {
        "colab": {
          "base_uri": "https://localhost:8080/"
        },
        "id": "SrCvKqZnp2r_",
        "outputId": "cbd38f99-374d-4200-b681-be3f6c0bedd4"
      },
      "outputs": [],
      "source": [
        "#%cd ../\n",
        "!pip install -q condacolab\n",
        "import condacolab\n",
        "condacolab.install()\n",
        "# import condacolab\n",
        "\n",
        "#@title\n",
        "!pip install condacolab\n",
        "# install condacolab\n",
        "\n",
        "import condacolab\n",
        "condacolab.check()\n",
        "# make sure condacolab is completely installed"
      ]
    },
    {
      "cell_type": "code",
      "execution_count": null,
      "metadata": {
        "colab": {
          "base_uri": "https://localhost:8080/"
        },
        "id": "zaECUAwZqIBT",
        "outputId": "9454ef47-62c5-42f8-a0b6-6f7192544ba0"
      },
      "outputs": [],
      "source": [
        "!conda install -c conda-forge -c bioconda mgltools openbabel mdanalysis redo numpy boost-cpp swig vina --yes\n",
        "# install vina for protein docking"
      ]
    },
    {
      "cell_type": "code",
      "execution_count": 4,
      "metadata": {
        "colab": {
          "base_uri": "https://localhost:8080/",
          "height": 383
        },
        "id": "hOH_AP_Ir3vM",
        "outputId": "36895fcc-fcc5-44b1-e513-0b393f314c62"
      },
      "outputs": [
        {
          "name": "stdout",
          "output_type": "stream",
          "text": [
            "/Users/peng/work/vina/data\n"
          ]
        }
      ],
      "source": [
        "import sys\n",
        "import warnings\n",
        "import os\n",
        "import shutil\n",
        "import subprocess\n",
        "from pathlib import Path\n",
        "#import nglview as nv\n",
        "from vina import Vina\n",
        "from openbabel import pybel\n",
        "from opencadd.structure.core import Structure\n",
        "\n",
        "\n",
        "# filter warnings to allow the program to run\n",
        "warnings.filterwarnings(\"ignore\")\n",
        "ob_log_handler = pybel.ob.OBMessageHandler()\n",
        "pybel.ob.obErrorLog.SetOutputLevel(0)\n",
        "\n",
        "# define paths to make directories for existing libraries\n",
        "def makeDatadirc(path):\n",
        "    if not os.path.exists(path):\n",
        "        os.makedirs(path)\n",
        "    else: pass\n",
        "        #shutil.rmtree(path)  # Removes all the subdirectories!\n",
        "        #os.makedirs(path)\n",
        "\n",
        "\n",
        "HERE = os.getcwd()\n",
        "DATA = HERE + \"/data\"\n",
        "print(DATA)\n",
        "#to check the directory and know where the current directory is\n",
        "\n",
        "makeDatadirc(DATA)\n",
        "makeDatadirc('AutodockUtilities24')\n",
        "# make a data directory for uploading existing libraries\n",
        "\n",
        "# retrieve structure from the Protein Data Bank\n",
        "pdb_id = \"2qzs\"\n",
        "structure = Structure.from_pdbid(pdb_id)\n",
        "# element information maybe missing, but important for subsequent PDBQT conversion\n",
        "if not hasattr(structure.atoms, \"elements\"):\n",
        "    structure.add_TopologyAttr(\"elements\", structure.atoms.types)\n",
        "structure\n",
        "# NBVAL_CHECK_OUTPUT\n",
        "\n",
        "\n",
        "# write the protein file to disk\n",
        "protein = structure.select_atoms(\"protein\")\n",
        "protein.write(DATA +\"/protein.pdb\")"
      ]
    },
    {
      "cell_type": "code",
      "execution_count": 26,
      "metadata": {},
      "outputs": [
        {
          "data": {
            "text/plain": [
              "'18_V'"
            ]
          },
          "execution_count": 26,
          "metadata": {},
          "output_type": "execute_result"
        }
      ],
      "source": [
        "import re\n",
        "str = './data/2qzs.18_V/2qzs.18_V.pdbqt'\n",
        "\n",
        "# re.search(r'/\\w+\\.', str[:-6]).group(0)[1:-1]\n",
        "\n",
        "str.split('.')[-2]"
      ]
    },
    {
      "cell_type": "code",
      "execution_count": 6,
      "metadata": {
        "colab": {
          "base_uri": "https://localhost:8080/"
        },
        "id": "8u1CROgxw3XC",
        "outputId": "fbd85162-15f1-4176-8ccd-ec9f4d299f0d"
      },
      "outputs": [
        {
          "name": "stdout",
          "output_type": "stream",
          "text": [
            "/Users/peng/work/vina\n",
            "set verbose to  True\n",
            "set receptor_filename to  result_2.pdb\n",
            "set outputfilename to  result_2.pdbqt\n",
            "set repairs to  checkhydrogens\n",
            "set cleanup to  waters\n",
            "\n",
            "Traceback (most recent call last):\n",
            "  File \"/Users/peng/work/vina/./AutodockUtilities24/prepare_receptor4.py\", line 157, in <module>\n",
            "    mols = Read(receptor_filename)\n",
            "  File \"/Users/peng/opt/anaconda3/envs/vina/lib/python3.9/site-packages/MolKit/__init__.py\", line 38, in Read\n",
            "    raise AssertionError(\"%s does't exist\" % filename)\n",
            "AssertionError: result_2.pdb does't exist\n",
            "\n"
          ]
        },
        {
          "data": {
            "text/plain": [
              "['set verbose to  True\\nset receptor_filename to  result_2.pdb\\nset outputfilename to  result_2.pdbqt\\nset repairs to  checkhydrogens\\nset cleanup to  waters\\n',\n",
              " 'Traceback (most recent call last):\\n  File \"/Users/peng/work/vina/./AutodockUtilities24/prepare_receptor4.py\", line 157, in <module>\\n    mols = Read(receptor_filename)\\n  File \"/Users/peng/opt/anaconda3/envs/vina/lib/python3.9/site-packages/MolKit/__init__.py\", line 38, in Read\\n    raise AssertionError(\"%s does\\'t exist\" % filename)\\nAssertionError: result_2.pdb does\\'t exist\\n']"
            ]
          },
          "execution_count": 6,
          "metadata": {},
          "output_type": "execute_result"
        }
      ],
      "source": [
        "def pdb_to_pdbqt(pdb_path, pdbqt_path):\n",
        "    \"\"\"\n",
        "    Convert a PDB file to a PDBQT file needed by docking programs of the AutoDock family.\n",
        "    Parameters\n",
        "    ----------\n",
        "    pdb_path: str or pathlib.Path\n",
        "        Path to input PDB file.\n",
        "    pdbqt_path: str or pathlib.path\n",
        "        Path to output PDBQT file.\n",
        "    \"\"\"\n",
        "    print(os.getcwd())\n",
        "    # print(os.chdir('./data'))\n",
        "    # print(pdb_path)\n",
        "    # print(os.getcwd())\n",
        "    \n",
        "    _cmd = ['python',\n",
        "            './AutodockUtilities24/prepare_receptor4.py',\n",
        "            '-v',\n",
        "            '-r',\n",
        "            pdb_path,\n",
        "            '-o', \n",
        "            pdbqt_path,\n",
        "            '-A',\n",
        "            'checkhydrogens',\n",
        "            '-U',\n",
        "            'waters']\n",
        "    result = subprocess.run(_cmd, capture_output=True, text=True)\n",
        "    print(result.stdout)\n",
        "    print(result.stderr)\n",
        "    resulttext = [result.stdout,result.stderr]\n",
        "    return resulttext\n",
        "\n",
        "# convert protein to PDBQT format\n",
        "pdb_to_pdbqt(\"result_2.pdb\", \"result_2.pdbqt\")"
      ]
    },
    {
      "attachments": {},
      "cell_type": "markdown",
      "metadata": {
        "id": "Jva37MBJFhm0"
      },
      "source": [
        "If you have already got these pdbqt files, you can ignore this cell."
      ]
    },
    {
      "cell_type": "code",
      "execution_count": null,
      "metadata": {
        "id": "RGx8Vq4VT6u7"
      },
      "outputs": [],
      "source": [
        "# define ligand sdf for protein-ligand complex of interest\n",
        "sdf = 'ADP-glucose.sdf'\n",
        "sdf2 ='Maltotriose.sdf'\n",
        "sdf3 ='Amylose.sdf'\n",
        "def sdf_to_pdbqt(sdf, pdbqt_path, pH=7.4):\n",
        "    \"\"\"\n",
        "    Convert a sdf string to a PDBQT file needed by docking programs of the AutoDock family.\n",
        "    Parameters\n",
        "    ----------\n",
        "    sdf: file\n",
        "        sdf file.\n",
        "    pdbqt_path: str or pathlib.path\n",
        "        Path to output PDBQT file.\n",
        "    pH: float\n",
        "        Protonation at given pH.\n",
        "    \"\"\"\n",
        "    molecule = pybel.readfile(\"sdf\", sdf).__next__()\n",
        "    # add hydrogens at given pH\n",
        "    molecule.OBMol.CorrectForPH(pH)\n",
        "    molecule.addh()\n",
        "    # generate 3D coordinates\n",
        "    molecule.make3D(forcefield=\"mmff94s\", steps=10000)\n",
        "    # add partial charges to each atom\n",
        "    for atom in molecule.atoms:\n",
        "        atom.OBAtom.GetPartialCharge()\n",
        "    molecule.write(\"pdbqt\", str(pdbqt_path), overwrite=True,)\n",
        "    return\n",
        "# convert the ligand into PDBQT format\n",
        "os.chdir('/content/data')\n",
        "\n",
        "sdf_to_pdbqt(sdf, DATA+\"/ADPG.pdbqt\")\n",
        "sdf_to_pdbqt(sdf2, DATA+\"/Maltotriose.pdbqt\")\n",
        "sdf_to_pdbqt(sdf3, DATA+\"/Amylose.pdbqt\")"
      ]
    },
    {
      "cell_type": "code",
      "execution_count": 2,
      "metadata": {
        "colab": {
          "base_uri": "https://localhost:8080/"
        },
        "id": "pYv4_SP4UA40",
        "outputId": "5fbb2b19-b850-4ffe-d540-ec4e89ca6f7b"
      },
      "outputs": [
        {
          "name": "stdout",
          "output_type": "stream",
          "text": [
            "24 scpustats(ctx_switches=3693, interrupts=2113576, soft_interrupts=4294967295, syscalls=2958701)\n"
          ]
        }
      ],
      "source": [
        "from psutil import *\n",
        "print(cpu_count(), cpu_stats())\n"
      ]
    },
    {
      "cell_type": "code",
      "execution_count": null,
      "metadata": {
        "colab": {
          "base_uri": "https://localhost:8080/"
        },
        "id": "pCOMHn93UDCj",
        "outputId": "459693a0-4543-4cc2-ce07-11452017400c"
      },
      "outputs": [
        {
          "name": "stdout",
          "output_type": "stream",
          "text": [
            "/content\n",
            "AutoDock Vina v1.2.3\n",
            "\n",
            "Input:\n",
            "  --receptor arg             rigid part of the receptor (PDBQT)\n",
            "  --flex arg                 flexible side chains, if any (PDBQT)\n",
            "  --ligand arg               ligand (PDBQT)\n",
            "  --batch arg                batch ligand (PDBQT)\n",
            "  --scoring arg (=vina)      scoring function (ad4, vina or vinardo)\n",
            "\n",
            "Search space (required):\n",
            "  --maps arg                 affinity maps for the autodock4.2 (ad4) or vina \n",
            "                             scoring function\n",
            "  --center_x arg             X coordinate of the center (Angstrom)\n",
            "  --center_y arg             Y coordinate of the center (Angstrom)\n",
            "  --center_z arg             Z coordinate of the center (Angstrom)\n",
            "  --size_x arg               size in the X dimension (Angstrom)\n",
            "  --size_y arg               size in the Y dimension (Angstrom)\n",
            "  --size_z arg               size in the Z dimension (Angstrom)\n",
            "  --autobox                  set maps dimensions based on input ligand(s) (for \n",
            "                             --score_only and --local_only)\n",
            "\n",
            "Output (optional):\n",
            "  --out arg                  output models (PDBQT), the default is chosen based\n",
            "                             on the ligand file name\n",
            "  --dir arg                  output directory for batch mode\n",
            "  --write_maps arg           output filename (directory + prefix name) for \n",
            "                             maps. Option --force_even_voxels may be needed to \n",
            "                             comply with .map format\n",
            "\n",
            "Misc (optional):\n",
            "  --cpu arg (=0)             the number of CPUs to use (the default is to try \n",
            "                             to detect the number of CPUs or, failing that, use\n",
            "                             1)\n",
            "  --seed arg (=0)            explicit random seed\n",
            "  --exhaustiveness arg (=8)  exhaustiveness of the global search (roughly \n",
            "                             proportional to time): 1+\n",
            "  --max_evals arg (=0)       number of evaluations in each MC run (if zero, \n",
            "                             which is the default, the number of MC steps is \n",
            "                             based on heuristics)\n",
            "  --num_modes arg (=9)       maximum number of binding modes to generate\n",
            "  --min_rmsd arg (=1)        minimum RMSD between output poses\n",
            "  --energy_range arg (=3)    maximum energy difference between the best binding\n",
            "                             mode and the worst one displayed (kcal/mol)\n",
            "  --spacing arg (=0.375)     grid spacing (Angstrom)\n",
            "  --verbosity arg (=1)       verbosity (0=no output, 1=normal, 2=verbose)\n",
            "\n",
            "Configuration file (optional):\n",
            "  --config arg               the above options can be put here\n",
            "\n",
            "Information (optional):\n",
            "  --help                     display usage summary\n",
            "  --help_advanced            display usage summary with advanced options\n",
            "  --version                  display program version\n",
            "\n"
          ]
        }
      ],
      "source": [
        "%cd /content/\n",
        "!chmod u+x ./vina_1.2.3_linux_x86_64\n",
        "!./vina_1.2.3_linux_x86_64 --help"
      ]
    },
    {
      "cell_type": "code",
      "execution_count": null,
      "metadata": {
        "colab": {
          "base_uri": "https://localhost:8080/"
        },
        "id": "9VDY2vbnUGwv",
        "outputId": "17fcadcb-553d-494b-e3c0-e650d2f0cebf"
      },
      "outputs": [
        {
          "name": "stdout",
          "output_type": "stream",
          "text": [
            "[25.3575    -3.9050002 42.039    ]\n",
            "25.357500076293945\n",
            "[29.373001 28.172    27.708   ]\n",
            "29.373001098632812 28.172 29.373001\n"
          ]
        }
      ],
      "source": [
        "ligand_resname = \"ADP\"\n",
        "ligand = structure.select_atoms(f\"resname {ligand_resname}\")\n",
        "\n",
        "pocket_center = (ligand.positions.max(axis=0) + ligand.positions.min(axis=0))/2\n",
        "pocket_size = ligand.positions.max(axis=0) - ligand.positions.min(axis=0) + 20\n",
        "print(pocket_center)\n",
        "print(float(pocket_center[0]))\n",
        "print(pocket_size)\n",
        "print(float(pocket_size[0]), pocket_size[1], pocket_size[0])"
      ]
    },
    {
      "cell_type": "code",
      "execution_count": null,
      "metadata": {
        "colab": {
          "base_uri": "https://localhost:8080/"
        },
        "id": "tIQ3k7z9UKzt",
        "outputId": "350fd70d-b74b-403b-de3a-5cc8e519ce5e"
      },
      "outputs": [
        {
          "name": "stdout",
          "output_type": "stream",
          "text": [
            "['/content/data/ADPG.pdbqt', '/content/data/Maltotriose.pdbqt']\n",
            "None\n",
            "/content\n",
            "./vina_1.2.3_linux_x86_64 --receptor /content/data/result_1.pdbqt --ligand /content/data/ADPG.pdbqt /content/data/Maltotriose.pdbqt --center_x 25.3575 --center_y -3.9050002 --center_z 42.039 --size_x 29.373001 --size_y 28.172 --size_z 27.708 --out /content/data/docking_poses_1_0619.pdbqt --verbosity 2 --cpu  2  --num_modes 4 --exhaustiveness 6\n"
          ]
        }
      ],
      "source": [
        "def print_vina_infor(\n",
        "    Ligands, protein_path, out_path, pocket_center, pocket_size, num_poses=4, exhaustiveness=6, flex_protein=None\n",
        "):\n",
        "\n",
        "    print(os.chdir(\n",
        "        '/content/'))\n",
        "    print(os.getcwd())\n",
        "    # config =subprocess.run('/Users/qixie/Library/CloudStorage/OneDrive-JohnsHopkins/JHU/Friedlab/pythonProject/DockingProject/AutodockUtilities24/prepare_configFile.py',\n",
        "    #                '-a',str(pocket_center[0]),\n",
        "    #                '-b',str(pocket_center[1]),\n",
        "    #                '-c',str(pocket_center[2]),\n",
        "    #                '-X',str(pocket_size[0]),\n",
        "    #                '-Y',str(pocket_size[1]),\n",
        "    #                'Z',str(pocket_size[2]),\n",
        "    #                capture_output=True, text=True\n",
        "    #                )\n",
        "    # print(config.stdout)\n",
        "    # print(config.stderr)\n",
        "    print('./vina_1.2.3_linux_x86_64 '+\n",
        "                             '--receptor '+ protein_path+\n",
        "\n",
        "                             ' --ligand '+ str(Ligands[0]) +' '+str(Ligands[1])+\n",
        "                             ' --center_x '+ str(pocket_center[0])+\n",
        "                             ' --center_y '+ str(pocket_center[1])+\n",
        "                             ' --center_z '+ str(pocket_center[2])+\n",
        "                             ' --size_x '+ str(pocket_size[0])+\n",
        "                             ' --size_y '+ str(pocket_size[1])+\n",
        "                             ' --size_z '+ str(pocket_size[2])+\n",
        "                             ' --out '+ str(out_path)+\n",
        "                             ' --verbosity '+'2'+ ' --cpu ', '2',\n",
        "                             ' --num_modes '+str(num_poses)+\n",
        "                             ' --exhaustiveness '+str(exhaustiveness)\n",
        "\n",
        "                            )\n",
        "\n",
        "    #\n",
        "    # v.set_receptor(protein_path)\n",
        "    # v.set_ligand_from_file(str(ligand_path))\n",
        "    # v.compute_vina_maps(center=[float(pocket_center[0]),\n",
        "    #                             float(pocket_center[1]),\n",
        "    #                             float(pocket_center[2])],\n",
        "    #                     box_size=[float(pocket_size[0]),\n",
        "    #                               float(pocket_size[1]),\n",
        "    #                               float(pocket_size[0])\n",
        "    #                               ])\n",
        "    # energy = v.score()\n",
        "    # print('Score before minimization: %.3f (kcal/mol)' % energy[0])\n",
        "    # energy_minimized = v.optimize()\n",
        "    # print('Score after minimization : %.3f (kcal/mol)' % energy_minimized[0])\n",
        "    # v.write_pose(str(out_path), overwrite=True)\n",
        "    #\n",
        "    # v.dock(exhaustiveness=exhaustiveness, n_poses=num_poses)\n",
        "    # output_text = v.write_poses(str(out_path), n_poses=5, overwrite=True)\n",
        "\n",
        "\n",
        "Ligands=[(DATA + \"/ADPG.pdbqt\"),(DATA + \"/Maltotriose.pdbqt\")]\n",
        "print(Ligands)\n",
        "output_text = print_vina_infor(Ligands=Ligands,\n",
        "                            protein_path=(DATA + \"/result_1.pdbqt\"),\n",
        "\n",
        "                            out_path=(DATA + \"/docking_poses_1_0619.pdbqt\"),\n",
        "                            pocket_center=pocket_center,\n",
        "                            pocket_size=pocket_size)\n"
      ]
    },
    {
      "cell_type": "code",
      "execution_count": null,
      "metadata": {
        "colab": {
          "base_uri": "https://localhost:8080/"
        },
        "id": "OFTeGk4KUOu4",
        "outputId": "e346ed98-c409-4719-e61f-19f77f9d2d46"
      },
      "outputs": [
        {
          "name": "stdout",
          "output_type": "stream",
          "text": [
            "AutoDock Vina v1.2.3\n",
            "#################################################################\n",
            "# If you used AutoDock Vina in your work, please cite:          #\n",
            "#                                                               #\n",
            "# J. Eberhardt, D. Santos-Martins, A. F. Tillack, and S. Forli  #\n",
            "# AutoDock Vina 1.2.0: New Docking Methods, Expanded Force      #\n",
            "# Field, and Python Bindings, J. Chem. Inf. Model. (2021)       #\n",
            "# DOI 10.1021/acs.jcim.1c00203                                  #\n",
            "#                                                               #\n",
            "# O. Trott, A. J. Olson,                                        #\n",
            "# AutoDock Vina: improving the speed and accuracy of docking    #\n",
            "# with a new scoring function, efficient optimization and       #\n",
            "# multithreading, J. Comp. Chem. (2010)                         #\n",
            "# DOI 10.1002/jcc.21334                                         #\n",
            "#                                                               #\n",
            "# Please see https://github.com/ccsb-scripps/AutoDock-Vina for  #\n",
            "# more information.                                             #\n",
            "#################################################################\n",
            "\n",
            "Scoring function : vina\n",
            "Rigid receptor: /content/data/result_2.pdbqt\n",
            "Ligands:\n",
            "  - /content/data/ADPG.pdbqt\n",
            "  - /content/data/Maltotriose.pdbqt\n",
            "Grid center: X 25.3575 Y -3.905 Z 42.039\n",
            "Grid size  : X 29.373 Y 28.172 Z 27.708\n",
            "Grid space : 0.375\n",
            "Exhaustiveness: 6\n",
            "CPU: 2\n",
            "Verbosity: 2\n",
            "\n",
            "Computing Vina grid ... done.\n",
            "Performing docking (random seed: 1709331846) ... \n",
            "0%   10   20   30   40   50   60   70   80   90   100%\n",
            "|----|----|----|----|----|----|----|----|----|----|\n",
            "***************************************************\n",
            "done.\n",
            "ENERGY FROM SEARCH: -30.7746\n",
            "FINAL ENERGY: \n",
            "Estimated Free Energy of Binding   : -11.192 (kcal/mol) [=(1)+(2)+(3)+(4)]\n",
            "(1) Final Intermolecular Energy    : -26.918 (kcal/mol)\n",
            "    Ligand - Receptor              : -25.930 (kcal/mol)\n",
            "    Ligand - Flex side chains      : -0.988 (kcal/mol)\n",
            "(2) Final Total Internal Energy    : -3.859 (kcal/mol)\n",
            "    Ligand                         : -3.859 (kcal/mol)\n",
            "    Flex   - Receptor              : 0.000 (kcal/mol)\n",
            "    Flex   - Flex side chains      : 0.000 (kcal/mol)\n",
            "(3) Torsional Free Energy          : 16.356 (kcal/mol)\n",
            "(4) Unbound System's Energy        : -3.229 (kcal/mol)\n",
            "ENERGY FROM SEARCH: -31.192\n",
            "FINAL ENERGY: \n",
            "Estimated Free Energy of Binding   : -11.356 (kcal/mol) [=(1)+(2)+(3)+(4)]\n",
            "(1) Final Intermolecular Energy    : -27.395 (kcal/mol)\n",
            "    Ligand - Receptor              : -25.752 (kcal/mol)\n",
            "    Ligand - Flex side chains      : -1.643 (kcal/mol)\n",
            "(2) Final Total Internal Energy    : -3.786 (kcal/mol)\n",
            "    Ligand                         : -3.786 (kcal/mol)\n",
            "    Flex   - Receptor              : 0.000 (kcal/mol)\n",
            "    Flex   - Flex side chains      : 0.000 (kcal/mol)\n",
            "(3) Torsional Free Energy          : 16.596 (kcal/mol)\n",
            "(4) Unbound System's Energy        : -3.229 (kcal/mol)\n",
            "ENERGY FROM SEARCH: -31.195\n",
            "FINAL ENERGY: \n",
            "Estimated Free Energy of Binding   : -11.364 (kcal/mol) [=(1)+(2)+(3)+(4)]\n",
            "(1) Final Intermolecular Energy    : -27.994 (kcal/mol)\n",
            "    Ligand - Receptor              : -26.468 (kcal/mol)\n",
            "    Ligand - Flex side chains      : -1.526 (kcal/mol)\n",
            "(2) Final Total Internal Energy    : -3.208 (kcal/mol)\n",
            "    Ligand                         : -3.208 (kcal/mol)\n",
            "    Flex   - Receptor              : 0.000 (kcal/mol)\n",
            "    Flex   - Flex side chains      : 0.000 (kcal/mol)\n",
            "(3) Torsional Free Energy          : 16.608 (kcal/mol)\n",
            "(4) Unbound System's Energy        : -3.229 (kcal/mol)\n",
            "ENERGY FROM SEARCH: -30.697\n",
            "FINAL ENERGY: \n",
            "Estimated Free Energy of Binding   : -11.161 (kcal/mol) [=(1)+(2)+(3)+(4)]\n",
            "(1) Final Intermolecular Energy    : -27.473 (kcal/mol)\n",
            "    Ligand - Receptor              : -26.448 (kcal/mol)\n",
            "    Ligand - Flex side chains      : -1.025 (kcal/mol)\n",
            "(2) Final Total Internal Energy    : -3.229 (kcal/mol)\n",
            "    Ligand                         : -3.229 (kcal/mol)\n",
            "    Flex   - Receptor              : 0.000 (kcal/mol)\n",
            "    Flex   - Flex side chains      : 0.000 (kcal/mol)\n",
            "(3) Torsional Free Energy          : 16.312 (kcal/mol)\n",
            "(4) Unbound System's Energy        : -3.229 (kcal/mol)\n",
            "\n",
            "mode |   affinity | dist from best mode\n",
            "     | (kcal/mol) | rmsd l.b.| rmsd u.b.\n",
            "-----+------------+----------+----------\n",
            "   1     -11.3640     0.0000     0.0000\n",
            "   2     -11.3557     5.0035    12.5052\n",
            "   3     -11.1915     5.2177    11.9649\n",
            "   4     -11.1610     5.0552    11.6937\n"
          ]
        }
      ],
      "source": [
        "!chmod u+x ./vina_1.2.3_linux_x86_64\n",
        "!./vina_1.2.3_linux_x86_64 --receptor /content/data/result_2.pdbqt --ligand /content/data/ADPG.pdbqt /content/data/Maltotriose.pdbqt --center_x 25.3575 --center_y -3.9050002 --center_z 42.039 --size_x 29.373001 --size_y 28.172 --size_z 27.708 --out /content/data/docking_poses_2_0619.pdbqt --verbosity 2 --cpu  2  --num_modes 4 --exhaustiveness 6"
      ]
    },
    {
      "cell_type": "code",
      "execution_count": null,
      "metadata": {
        "id": "Sum_c2GyUR0Y"
      },
      "outputs": [],
      "source": [
        "def feed_indel(Mutations):\n",
        "  print(Mutations)\n",
        "  mutationfile=open(\"mutation.input\", \"w\")\n",
        "  print(len(Mutations))\n",
        "  for i in range (len(Mutations)):\n",
        "    print (\"MUTATE CHAIN_A \"+str(Mutations[i]+\"\\n\"))\n",
        "    mutationfile.write(\"MUTATE CHAIN_A \"+str(Mutations[i]+\"\\n\"))\n",
        "  mutationfile.close()\n",
        "\n",
        "Mutations=['15_R','16_N','18_A']\n",
        "feed_indel(Mutations)"
      ]
    },
    {
      "cell_type": "code",
      "execution_count": null,
      "metadata": {
        "id": "ZH9LA-WLUSU1"
      },
      "outputs": [],
      "source": [
        "from pyrosetta import *\n",
        "init()\n",
        "!python /content"
      ]
    }
  ],
  "metadata": {
    "colab": {
      "provenance": []
    },
    "kernelspec": {
      "display_name": "Python 3",
      "name": "python3"
    },
    "language_info": {
      "codemirror_mode": {
        "name": "ipython",
        "version": 3
      },
      "file_extension": ".py",
      "mimetype": "text/x-python",
      "name": "python",
      "nbconvert_exporter": "python",
      "pygments_lexer": "ipython3",
      "version": "3.9.16"
    }
  },
  "nbformat": 4,
  "nbformat_minor": 0
}
